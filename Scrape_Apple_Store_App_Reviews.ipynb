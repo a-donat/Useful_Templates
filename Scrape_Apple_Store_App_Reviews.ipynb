{
  "nbformat": 4,
  "nbformat_minor": 0,
  "metadata": {
    "colab": {
      "provenance": [],
      "authorship_tag": "ABX9TyO1YRK69kcYTHnJBXd89eTq",
      "include_colab_link": true
    },
    "kernelspec": {
      "name": "python3",
      "display_name": "Python 3"
    },
    "language_info": {
      "name": "python"
    }
  },
  "cells": [
    {
      "cell_type": "markdown",
      "metadata": {
        "id": "view-in-github",
        "colab_type": "text"
      },
      "source": [
        "<a href=\"https://colab.research.google.com/github/a-donat/Useful_Templates/blob/main/Scrape_Apple_Store_App_Reviews.ipynb\" target=\"_parent\"><img src=\"https://colab.research.google.com/assets/colab-badge.svg\" alt=\"Open In Colab\"/></a>"
      ]
    },
    {
      "cell_type": "code",
      "execution_count": null,
      "metadata": {
        "id": "o249f1v7eT5p"
      },
      "outputs": [],
      "source": [
        "!pip install app_store_scraper\n"
      ]
    },
    {
      "cell_type": "code",
      "source": [
        "import pandas as pd\n",
        "import numpy as np\n",
        "from app_store_scraper import AppStore"
      ],
      "metadata": {
        "id": "j_YOHF6AednA"
      },
      "execution_count": null,
      "outputs": []
    },
    {
      "cell_type": "code",
      "source": [
        "app_name = \"\"\n",
        "app_id = \"\""
      ],
      "metadata": {
        "id": "jstJCKzI3H4w"
      },
      "execution_count": null,
      "outputs": []
    },
    {
      "cell_type": "code",
      "source": [
        "sel_app = AppStore(country='us', app_name=app_name, app_id=app_id)"
      ],
      "metadata": {
        "id": "_ZZHN5AlecZa"
      },
      "execution_count": null,
      "outputs": []
    },
    {
      "cell_type": "code",
      "source": [
        "sel_app.review(how_many=2000)"
      ],
      "metadata": {
        "id": "0evao_UHenBo"
      },
      "execution_count": null,
      "outputs": []
    },
    {
      "cell_type": "code",
      "source": [
        "sel_app.reviews_count"
      ],
      "metadata": {
        "id": "N0o5v2_cfq9O"
      },
      "execution_count": null,
      "outputs": []
    },
    {
      "cell_type": "code",
      "source": [
        "sel_app.reviews"
      ],
      "metadata": {
        "id": "pG8tauMMe5DW"
      },
      "execution_count": null,
      "outputs": []
    },
    {
      "cell_type": "code",
      "source": [
        "reviews_df = pd.DataFrame(\n",
        "    data=[\n",
        "        [i, x[\"date\"], x[\"review\"], x[\"rating\"], x[\"isEdited\"], x[\"userName\"],\n",
        "         x[\"title\"], 'developerResponse' in x.keys()]\n",
        "        for i, x in enumerate(sel_app.reviews)],\n",
        "    columns=[\"id\", \"date\", \"review\", \"rating\", \"isEdited\", \"userName\", \"title\",\n",
        "             \"developerResponded\"])"
      ],
      "metadata": {
        "id": "27uvRYDBhG5o"
      },
      "execution_count": null,
      "outputs": []
    },
    {
      "cell_type": "code",
      "source": [
        "responses_df = pd.DataFrame(\n",
        "    data=[\n",
        "        [i, x[\"developerResponse\"][\"id\"], x[\"developerResponse\"][\"body\"],\n",
        "         x[\"developerResponse\"][\"modified\"]]\n",
        "        for i, x in enumerate(saturn_app.reviews)\n",
        "        if \"developerResponse\" in x],\n",
        "    columns=[\"id\", \"dev_id\", \"dev_response\", \"dev_date\"])"
      ],
      "metadata": {
        "id": "uGiL2-lPg1Vd"
      },
      "execution_count": null,
      "outputs": []
    },
    {
      "cell_type": "code",
      "source": [
        "reviews_df = reviews_df.merge(responses_df, how=\"outer\", on=\"id\").copy()"
      ],
      "metadata": {
        "id": "l5-yJq8zxek2"
      },
      "execution_count": null,
      "outputs": []
    },
    {
      "cell_type": "code",
      "source": [
        "reviews_df.to_csv(app_name +  \"_reviews.csv\")"
      ],
      "metadata": {
        "id": "0KC-0TMpgvkn"
      },
      "execution_count": null,
      "outputs": []
    }
  ]
}